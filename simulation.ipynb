{
 "cells": [
  {
   "cell_type": "code",
   "execution_count": 25,
   "metadata": {
    "collapsed": true
   },
   "outputs": [],
   "source": [
    "import numpy as np\n",
    "import cmath\n",
    "import matplotlib.pyplot as plt\n",
    "import pandas as pd"
   ]
  },
  {
   "cell_type": "code",
   "execution_count": 33,
   "metadata": {
    "collapsed": true
   },
   "outputs": [],
   "source": [
    "#List of constants and Wilson coefficients#\n",
    "\n",
    "ml = 0.0 #lepton mass\n",
    "C_1 = -0.257\n",
    "C_2 = 1.009\n",
    "C_3 = -0.005\n",
    "C_4 = -0.078\n",
    "C_5 = 0.0\n",
    "C_6 = 0.001\n",
    "C7eff = - 0.299 # evaluated at mb WD beyond LL( IS THE C7_gamma) \n",
    "C_9 = 4.211   #changed to define C_9 scaled by 4π/α_s instead (0811.1214 on arxiv)\n",
    "C10eff = -4.261 # arxiv 0106067\n",
    "C9eff_p = 0.0\n",
    "C7eff_p = 0.0\n",
    "C10eff_p = 0.0\n",
    "mc = 1.28\n",
    "mb = 4.8 # GeV from clean obs ...\n",
    "mB = 5.27950\n",
    "mK = 0.89594\n",
    "alpha_s = 0.1184 # at M_Z +/- 0.0007\n",
    "V_tb = 0.999146\n",
    "V_ts = 0.0404\n",
    "G_F = 1.166378*10**-5 #GeV**-2\n",
    "\n",
    "def h(q,mq,mu):\n",
    "    return((-4/9)*(np.log(mq**2/mu**2) - 2/3 - 4*mq**2/q) \\\n",
    "           - (4/9)*(2 + 4*mq**2/q)*np.sqrt(4*mq**2/q - 1)*np.arctan(1/np.sqrt(4*mq**2/q - 1)))\n",
    "\n",
    "def Y(q):\n",
    "    return(h(q,mc,mb)*(4*C_1/3 + C_2 + 6*C_3 + 60*C_5) \\\n",
    "           - h(q,mb,mb)*(7*C_3 + 4*C_4/3 + 76*C_5 + 64*C_6/3)/2 \\\n",
    "           - h(q,0,mb)*(C_3 + 4*C_4/3 + 16*C_5 + 64*C_6/3)/2 \\\n",
    "           + 4*C_3/3 + 64*C_5/9 + 64*C_6/27)\n",
    "\n",
    "def C9eff(q):\n",
    "    return(C_9) # + Y(q) (TO BE TESTED)"
   ]
  },
  {
   "cell_type": "code",
   "execution_count": 34,
   "metadata": {
    "collapsed": true
   },
   "outputs": [],
   "source": [
    "#Simple functions of q**2 used in later definitions!\n",
    "# q IS ALWAYS q**2 !!!!!!\n",
    "\n",
    "def lambd(q):\n",
    "    return(mB**4 + mK**4 + q**2 - 2*((mB*mK)**2 + q*mK**2 + q*mB**2))\n",
    "\n",
    "def beta_l(q):\n",
    "    return(np.sqrt(1-(4*ml**2)/q)) # =1 in the lepton massless limit we consider\n",
    "\n",
    "def Norm_factor(q):\n",
    "    return( V_tb*V_ts*(np.sqrt((G_F**2)* alpha_s**2 * q * np.sqrt(lambd(q)) * beta_l(q)/(3*(2**10)*((np.pi)**5)*mB**3))))\n",
    "\n",
    "def EK_star(q):\n",
    "    return((mB**2 + mK**2 - q)/2*mB)"
   ]
  },
  {
   "cell_type": "code",
   "execution_count": 35,
   "metadata": {
    "collapsed": true
   },
   "outputs": [],
   "source": [
    "#Form factors parameters for V(q), A_1(q), A_2(q) and A_0(q) through ξ_||\n",
    "\n",
    "paramV =  [0.424, 1.55, 0.5750] # [V(0), a_V, b_V], same order on the following sets of parameters\n",
    "paramA0 = [0.570, 1.550, 0.680]\n",
    "paramA1 = [0.337, 0.6, -0.0230]\n",
    "paramA2 = [0.283, 1.18, 0.2810] \n",
    "paramT1 = [0.379, 1.59, 0.6150]\n",
    "paramT2 = [0.379, 0.49, -0.241]\n",
    "paramT3 = [0.261, 1.20, 0.0980]\n",
    "\n",
    "def FormFactors(q,x):\n",
    "    return(x[0]/(1 - x[1]*q/mB**2 -x[2]*(q/mB**2)**2))\n",
    "\n",
    "#Following needed in the heavy quark and large energy limit.\n",
    "\n",
    "def Ksi_par(q):\n",
    "    return((mB + mK)*FormFactors(q,paramA1)/(2*EK_star(q)) - (mB - mK)*FormFactors(q,paramA2)/mB)\n",
    "\n",
    "def Ksi_ort(q):\n",
    "    return(mB*FormFactors(q,paramV)/(mB + mK))"
   ]
  },
  {
   "cell_type": "code",
   "execution_count": 36,
   "metadata": {
    "collapsed": true
   },
   "outputs": [],
   "source": [
    "#Form factors parameters for V(q), A_1(q), A_2(q) and A_0(q) through ξ_||\n",
    "\n",
    "#paramV = [0.923, -0.511, 49.4, 5.32**2] # [r1, r2, m_fit^2, m_R^2]\n",
    "#paramA1 = [0.0, 0.290, 40.38]        #Same without m_R^2\n",
    "#paramA2 = [-0.084, 0.342, 52.0]      #Same without m_R^2\n",
    "\n",
    "#def Vff(q):\n",
    " #   return(paramV[0]/(1 - q/paramV[3]) + paramV[1]/(1 - q/paramV[2]))\n",
    "\n",
    "#def A1ff(q):\n",
    " #   return(paramA1[1]/(1 - q/paramA1[2]))\n",
    "\n",
    "#def A2ff(q):\n",
    " #   return(paramA2[0]/(1 - q/paramA2[2]) + paramA2[1]/(1 - q/paramA2[2]))\n",
    "\n",
    "#def Ksi_par(q):\n",
    "#    return((mB + mK)*A1ff(q)/(2*EK_star(q)) - (mB - mK)*A2ff(q)/mB)\n",
    "\n",
    "#def A0ff(q):\n",
    "#    return(EK_star(q)*Ksi_par(q)/mK)\n",
    "\n",
    "\n",
    "#Definition of form factors T_1, T_2 and T_3 inserted in the following amplitudes definitions \n",
    "#More like scaled form factors!!\n",
    "\n",
    "\n",
    "#def T1(q):\n",
    " #   return ((mB/(mB + mK))*Vff(q))\n",
    "\n",
    "#def T2(q):\n",
    "  #  return((2*EK_star(q)/(mB + mK))*Vff(q))\n",
    "\n",
    "#def T3(q):\n",
    "#    return( T1(q) - ((mB + mK)/2*EK_star(q))*A1ff(q) - ((mB - mK)/mB)*A2ff(q)   )\n"
   ]
  },
  {
   "cell_type": "code",
   "execution_count": 37,
   "metadata": {
    "collapsed": true
   },
   "outputs": [],
   "source": [
    "#Definitions of all 7 amplitudes that exist in the angular observables J's !!\n",
    "\n",
    "\n",
    "def A_0(q, chir):\n",
    "    if chir == \"L\":\n",
    "        return( -(Norm_factor(q)/(2* mK * np.sqrt(q)))* \\\n",
    "               ((C9eff(q)- C9eff_p - C10eff+ C10eff_p) * ((mB**2-mK**2-q) * (mB+mK)* FormFactors(q,paramA1) \\\n",
    "                                                          - lambd(q) * FormFactors(q,paramA2) / (mB+mK)) \\\n",
    "                + 2* mb* (C7eff - C7eff_p)*(( mB**2 + 3*mK**2 - q ) * FormFactors(q,paramT2) \\\n",
    "                                            - lambd(q) * FormFactors(q,paramT3)/ (mB**2 - mK**2))))\n",
    "    elif chir == \"R\":\n",
    "         return( -(Norm_factor(q)/(2* mK * np.sqrt(q)))* \\\n",
    "               ((C9eff(q)- C9eff_p + C10eff - C10eff_p) * ((mB**2-mK**2-q) * (mB+mK)* FormFactors(q,paramA1) \\\n",
    "                                                          - lambd(q) * FormFactors(q,paramA2) / (mB+mK)) \\\n",
    "                + 2* mb* (C7eff - C7eff_p)*(( mB**2 + 3*mK**2 - q ) * FormFactors(q,paramT2) \\\n",
    "                                            - lambd(q) * FormFactors(q,paramT3)/ (mB**2 - mK**2))))\n",
    "    else:\n",
    "        print('Invalid chirality argument')\n",
    "        \n",
    "\n",
    "def A_par(q, chir):\n",
    "    if chir == \"L\":\n",
    "        return(- np.sqrt(2) * Norm_factor(q) * ( mB**2 - mK**2 ) *\\\n",
    "               ( (C9eff(q) - C9eff_p - C10eff + C10eff_p) * FormFactors(q,paramA1) /(mB - mK)\\\n",
    "                + 2*(mb/q ) * (C7eff - C7eff_p)* FormFactors(q,paramT2)))\n",
    "    elif chir ==\"R\":\n",
    "        return(- np.sqrt(2) * Norm_factor(q) * ( mB**2 - mK**2 ) *\\\n",
    "               ( (C9eff(q) - C9eff_p + C10eff - C10eff_p) * FormFactors(q,paramA1) /(mB - mK)\\\n",
    "                + 2*(mb/q ) * (C7eff - C7eff_p)* FormFactors(q,paramT2)))\n",
    "    else:\n",
    "        print(\"Invalid chirality argument\")\n",
    "\n",
    "        \n",
    "def A_ort(q, chir):\n",
    "    if chir == \"L\":\n",
    "        return( np.sqrt( 2 * lambd(q)) * Norm_factor(q) *\\\n",
    "               ((C9eff(q) + C9eff_p - C10eff - C10eff_p)* FormFactors(q,paramV)/(mB + mK) \\\n",
    "                + 2*(mb/q ) * (C7eff + C7eff_p) * FormFactors(q,paramT1)))\n",
    "    elif chir == \"R\":\n",
    "        return( np.sqrt( 2 * lambd(q)) * Norm_factor(q) *\\\n",
    "               ((C9eff(q) + C9eff_p + C10eff + C10eff_p)* FormFactors(q,paramV)/(mB + mK) \\\n",
    "                + 2*(mb/q ) * (C7eff + C7eff_p) * FormFactors(q,paramT1)))\n",
    "    else:\n",
    "           print(\"Invalid chirality argument\")\n",
    "\n",
    "\n",
    "def A_t(q):\n",
    "    return( (2*Norm_factor(q)*np.sqrt(lambd(q))/np.sqrt(q))*(C10eff - C10eff_p)*FormFactors(q,paramA0))"
   ]
  },
  {
   "cell_type": "code",
   "execution_count": 53,
   "metadata": {
    "collapsed": true
   },
   "outputs": [],
   "source": [
    "#Definition of the angular observables needed to express P'_5!! (Maybe can reduce them with if statements)!!!\n",
    "\n",
    "def J_1s(q):\n",
    "    return( ( (2+beta_l(q)**2)/4)* \\\n",
    "           (np.absolute(A_ort(q,\"L\"))**2 + np.absolute(A_par(q,\"L\"))**2\\\n",
    "           + np.absolute(A_ort(q,\"R\"))**2+ np.absolute(A_par(q,\"R\"))**2) \\\n",
    "           +(4*ml**2/q)*(A_ort(q, \"L\")*np.conj( A_ort(q, \"R\")) +  A_par(q, \"L\")*np.conj(A_par(q, \"R\"))).real)\n",
    "\n",
    "\n",
    "def J_1c(q):\n",
    "    return( np.absolute(A_0(q,\"L\"))**2 + np.absolute(A_0(q,\"R\"))**2 \\\n",
    "           + (4*ml**2/q) * (np.absolute(A_t(q))**2 + 2*(A_0(q,\"L\")*np.conj(A_0(q,\"R\"))).real))\n",
    "\n",
    "def J_2s(q):\n",
    "    return((beta_l(q)**2/4)*(np.absolute(A_ort(q,\"L\"))**2 + np.absolute(A_par(q,\"L\"))**2 \\\n",
    "                             + np.absolute(A_ort(q,\"R\"))**2 + np.absolute(A_par(q,\"R\"))**2))\n",
    "\n",
    "def J_2c(q):\n",
    "    return(-beta_l(q)**2*( np.absolute(A_0(q,\"L\"))**2 + np.absolute(A_0(q, \"R\"))**2))\n",
    "\n",
    "def J_5(q):\n",
    "    return(np.sqrt(2)*beta_l(q)*((A_0(q,\"L\")*np.conj(A_ort(q,\"L\"))).real - (A_0(q,\"R\")*np.conj(A_ort(q,\"R\"))).real))\n",
    "\n",
    "\n",
    "def J_1s_bar(q):\n",
    "     return( ( (2+beta_l(q)**2)/4)* \\\n",
    "           (np.absolute(A_ort(q,\"L\"))**2 + np.absolute(A_par(q,\"L\"))**2\\\n",
    "           + np.absolute(A_ort(q,\"R\"))**2+ np.absolute(A_par(q,\"R\"))**2) \\\n",
    "           +(4*ml**2/q)*(A_ort(q, \"R\")*np.conj(A_ort(q, \"L\")) + A_par(q, \"R\")*np.conj(A_par(q, \"L\"))).real)\n",
    "\n",
    "\n",
    "def J_1c_bar(q):\n",
    "     return( np.absolute(A_0(q,\"L\"))**2 + np.absolute(A_0(q, \"R\"))**2 \\\n",
    "           + (4*ml**2/q) * (np.absolute(A_t(q))**2 + 2*(A_0(q,\"R\")*np.conj(A_0(q,\"L\"))).real))\n",
    "\n",
    "\n",
    "def J_2s_bar(q):\n",
    "    return((beta_l(q)**2/4)*(np.absolute(A_ort(q,\"L\"))**2 + np.absolute(A_par(q,\"L\"))**2 \\\n",
    "                             + np.absolute(A_ort(q,\"R\"))**2 + np.absolute(A_par(q,\"R\"))**2))\n",
    "\n",
    "def J_2c_bar(q):\n",
    "    return(-beta_l(q)**2*( np.absolute(A_0(q,\"L\"))**2 + np.absolute(A_0(q, \"R\"))**2))\n",
    "\n",
    "def J_5_bar(q):\n",
    "    return(np.sqrt(2)*beta_l(q)*((A_ort(q,\"L\")*np.conj(A_0(q,\"L\"))).real - (A_ort(q,\"R\")*np.conj(A_0(q,\"R\"))).real))"
   ]
  },
  {
   "cell_type": "code",
   "execution_count": 66,
   "metadata": {
    "collapsed": true
   },
   "outputs": [],
   "source": [
    "#Final pieces to define P'_5! Still need to work the infinities appeared and find local densities!!\n",
    "\n",
    "def DecayRate(q):\n",
    "    return(3*(2*J_1s(q) + J_1c(q))/4 - (2*J_2s(q) + J_2c(q))/4)\n",
    "\n",
    "def drate(q):\n",
    "    return(np.absolute(A_0(q,\"L\"))**2 + np.absolute(A_0(q,\"R\"))**2\\\n",
    "           + np.absolute(A_ort(q,\"L\"))**2 + np.absolute(A_ort(q,\"R\"))**2\\\n",
    "           + np.absolute(A_par(q,\"L\"))**2 + np.absolute(A_par(q,\"R\"))**2)\n",
    "\n",
    "def DecayRate_bar(q):\n",
    "    return(3*(2*J_1s_bar(q) + J_1c_bar(q))/4 -(2*J_2s_bar(q) + J_2c_bar(q))/4)\n",
    "\n",
    "def S5(q):\n",
    "    return((J_5_bar(q) + J_5(q))/(DecayRate(q) + DecayRate_bar(q)))\n",
    "\n",
    "def FL(q):\n",
    "    return((np.absolute(A_0(q,\"L\"))**2 + np.absolute(A_0(q,\"R\"))**2)/\\\n",
    "           (np.absolute(A_0(q,\"L\"))**2 + np.absolute(A_0(q,\"R\"))**2 \\\n",
    "            + np.absolute(A_par(q,\"L\"))**2 + np.absolute(A_par(q,\"R\"))**2 \\\n",
    "            + np.absolute(A_ort(q,\"L\"))**2 + np.absolute(A_ort(q,\"R\"))**2))\n",
    "\n",
    "def P_5_p(q):\n",
    "    return(S5(q)/ (np.sqrt(FL(q)*(1-FL(q) ))))"
   ]
  },
  {
   "cell_type": "code",
   "execution_count": 59,
   "metadata": {},
   "outputs": [
    {
     "name": "stdout",
     "output_type": "stream",
     "text": [
      "0.0\n",
      "1.0626381185248089e-18\n"
     ]
    }
   ],
   "source": [
    "#Test 1: the two values should be equal\n",
    "\n",
    "print(J_1s(4))\n",
    "print(3*J_2s(4))"
   ]
  },
  {
   "cell_type": "code",
   "execution_count": 65,
   "metadata": {},
   "outputs": [
    {
     "name": "stdout",
     "output_type": "stream",
     "text": [
      "(7.037294881674696e-18, 7.037294881674694e-18)\n"
     ]
    }
   ],
   "source": [
    "#Test 2: Different definitions of decay rate should give the same result\n",
    "\n",
    "print(DecayRate_bar(4),drate(4))"
   ]
  },
  {
   "cell_type": "code",
   "execution_count": 54,
   "metadata": {},
   "outputs": [
    {
     "name": "stdout",
     "output_type": "stream",
     "text": [
      "6.099845498047991e-18\n",
      "6.099845498047991e-18\n"
     ]
    }
   ],
   "source": [
    "#Test 3: Values should match again.\n",
    "\n",
    "print(J_1c(1))\n",
    "print(-J_2c(1))"
   ]
  },
  {
   "cell_type": "code",
   "execution_count": null,
   "metadata": {
    "collapsed": true
   },
   "outputs": [],
   "source": []
  }
 ],
 "metadata": {
  "kernelspec": {
   "display_name": "Python 3",
   "language": "python",
   "name": "python3"
  },
  "language_info": {
   "codemirror_mode": {
    "name": "ipython",
    "version": 3
   },
   "file_extension": ".py",
   "mimetype": "text/x-python",
   "name": "python",
   "nbconvert_exporter": "python",
   "pygments_lexer": "ipython3",
   "version": "3.6.3"
  }
 },
 "nbformat": 4,
 "nbformat_minor": 2
}
